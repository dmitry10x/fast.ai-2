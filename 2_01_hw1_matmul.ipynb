{
  "nbformat": 4,
  "nbformat_minor": 0,
  "metadata": {
    "colab": {
      "name": "2_01_hw1_matmul.ipynb",
      "provenance": [],
      "collapsed_sections": []
    },
    "kernelspec": {
      "name": "python3",
      "display_name": "Python 3"
    }
  },
  "cells": [
    {
      "cell_type": "markdown",
      "metadata": {
        "id": "Y2p5g3Qrez_3"
      },
      "source": [
        "## In this notebook I have tried to recreate matrix multiplication from scratch using only torch.tensor (for tensors creation only)\n",
        "\n",
        "fast.ai Part 2: Deep Learning from the Foundations\n",
        "lesson 8 homework 1"
      ]
    },
    {
      "cell_type": "code",
      "metadata": {
        "id": "UppySWyCeXN7"
      },
      "source": [
        "import torch"
      ],
      "execution_count": 1,
      "outputs": []
    },
    {
      "cell_type": "code",
      "metadata": {
        "id": "nriWQbvnfd8d",
        "outputId": "641ff2df-ab1d-4db2-c4a5-ae6a4eca6ed2",
        "colab": {
          "base_uri": "https://localhost:8080/",
          "height": 118
        }
      },
      "source": [
        "x = torch.rand(size=[4,2],dtype=torch.float)\n",
        "y = torch.rand(size=[2,4],dtype=torch.float)\n",
        "display(x,y)"
      ],
      "execution_count": 100,
      "outputs": [
        {
          "output_type": "display_data",
          "data": {
            "text/plain": [
              "tensor([[0.9848, 0.5285],\n",
              "        [0.6515, 0.9521],\n",
              "        [0.5628, 0.0976],\n",
              "        [0.0582, 0.6412]])"
            ]
          },
          "metadata": {
            "tags": []
          }
        },
        {
          "output_type": "display_data",
          "data": {
            "text/plain": [
              "tensor([[0.1714, 0.1951, 0.7761, 0.2252],\n",
              "        [0.7349, 0.4572, 0.3885, 0.7724]])"
            ]
          },
          "metadata": {
            "tags": []
          }
        }
      ]
    },
    {
      "cell_type": "markdown",
      "metadata": {
        "id": "75TFWdGWkeah"
      },
      "source": [
        "To start, here is the PyTorch implementation"
      ]
    },
    {
      "cell_type": "code",
      "metadata": {
        "id": "fAyf4NoRff-O",
        "outputId": "d32723be-53e6-4a0b-bded-8c5fd804ea6f",
        "colab": {
          "base_uri": "https://localhost:8080/",
          "height": 50
        }
      },
      "source": [
        "%timeit torch.matmul(x, y)"
      ],
      "execution_count": 143,
      "outputs": [
        {
          "output_type": "stream",
          "text": [
            "The slowest run took 35.76 times longer than the fastest. This could mean that an intermediate result is being cached.\n",
            "100000 loops, best of 3: 2.96 µs per loop\n"
          ],
          "name": "stdout"
        }
      ]
    },
    {
      "cell_type": "markdown",
      "metadata": {
        "id": "pmnSC0vmklPm"
      },
      "source": [
        "So, let's make a function that will check if the shapes of matrices is appropriate for mutual multiplication"
      ]
    },
    {
      "cell_type": "code",
      "metadata": {
        "id": "xpNtuZpijmTV"
      },
      "source": [
        "def check_shapes(mat1, mat2):\n",
        "    mat1_shape, mat2_shape = mat1.shape, mat2.shape\n",
        "    assert mat1_shape[1] == mat2_shape[0], 'mat1.shape[1] must be equal to mat2.shape[0]'\n",
        "    assert mat1_shape[0] == mat2_shape[1], 'mat1.shape[0] must be equal to mat2.shape[1]'"
      ],
      "execution_count": 107,
      "outputs": []
    },
    {
      "cell_type": "code",
      "metadata": {
        "id": "LlO3R0iNlkLP"
      },
      "source": [
        "check_shapes(x,y)"
      ],
      "execution_count": 108,
      "outputs": []
    },
    {
      "cell_type": "markdown",
      "metadata": {
        "id": "QhGC4s51rsom"
      },
      "source": [
        "Matmul ver1 (cycle)"
      ]
    },
    {
      "cell_type": "code",
      "metadata": {
        "id": "vyHT-R71rsK3"
      },
      "source": [
        "def matmul_cycle(mat1, mat2):\n",
        "    check_shapes(mat1,mat2)\n",
        "    mat1_shape, mat2_shape = mat1.shape, mat2.shape\n",
        "    new_mat = torch.zeros([mat1_shape[0],mat2_shape[1]])\n",
        "    #multiplication\n",
        "    for row in range(mat1_shape[0]):\n",
        "        for col in range(mat2_shape[1]):\n",
        "            #elementwise\n",
        "            for row_el,col_el in zip(mat1[row],mat2[:,col]):\n",
        "                new_mat[row,col] += row_el*col_el\n",
        "    return new_mat"
      ],
      "execution_count": 137,
      "outputs": []
    },
    {
      "cell_type": "code",
      "metadata": {
        "id": "58OCfCDv1RbH",
        "outputId": "820f0b3a-243f-453e-8b03-ce30fd370d60",
        "colab": {
          "base_uri": "https://localhost:8080/",
          "height": 84
        }
      },
      "source": [
        "matmul_cycle(x,y)"
      ],
      "execution_count": 147,
      "outputs": [
        {
          "output_type": "execute_result",
          "data": {
            "text/plain": [
              "tensor([[0.5572, 0.4337, 0.9696, 0.6300],\n",
              "        [0.8113, 0.5624, 0.8755, 0.8822],\n",
              "        [0.1682, 0.1544, 0.4747, 0.2021],\n",
              "        [0.4812, 0.3045, 0.2943, 0.5084]])"
            ]
          },
          "metadata": {
            "tags": []
          },
          "execution_count": 147
        }
      ]
    },
    {
      "cell_type": "code",
      "metadata": {
        "id": "8Jie9Ij1lvg-",
        "outputId": "9a77dbb1-cce2-47ae-f8f0-8e8a20d109fa",
        "colab": {
          "base_uri": "https://localhost:8080/",
          "height": 50
        }
      },
      "source": [
        "%timeit matmul_cycle(x,y)"
      ],
      "execution_count": 142,
      "outputs": [
        {
          "output_type": "stream",
          "text": [
            "The slowest run took 7.21 times longer than the fastest. This could mean that an intermediate result is being cached.\n",
            "1000 loops, best of 3: 646 µs per loop\n"
          ],
          "name": "stdout"
        }
      ]
    },
    {
      "cell_type": "code",
      "metadata": {
        "id": "J3vVwBghy2uB"
      },
      "source": [
        "#ver1 done but it is veeery slow as we can see\n",
        "#let's figure that out"
      ],
      "execution_count": 144,
      "outputs": []
    },
    {
      "cell_type": "markdown",
      "metadata": {
        "id": "SFglOfG10sO-"
      },
      "source": [
        "Matmul ver2 (broadcasting)"
      ]
    },
    {
      "cell_type": "code",
      "metadata": {
        "id": "kp1rdME90o68"
      },
      "source": [
        "def matmul_brcst(mat1, mat2):\n",
        "    check_shapes(mat1,mat2)\n",
        "    mat1_shape, mat2_shape = mat1.shape, mat2.shape\n",
        "    new_mat = torch.zeros([mat1_shape[0],mat2_shape[1]])\n",
        "    #multiplication\n",
        "    for row in range(mat1_shape[0]):\n",
        "        for col in range(mat2_shape[1]):\n",
        "            #elementwise\n",
        "            new_mat[row,col] = mat1[row]@mat2[:,col]\n",
        "    return new_mat"
      ],
      "execution_count": 149,
      "outputs": []
    },
    {
      "cell_type": "code",
      "metadata": {
        "id": "nnMtSxtl0_nx",
        "outputId": "7729d00f-cdbb-4cba-f2b8-12bfb2b5d9ef",
        "colab": {
          "base_uri": "https://localhost:8080/",
          "height": 84
        }
      },
      "source": [
        "matmul_brcst(x,y)"
      ],
      "execution_count": 150,
      "outputs": [
        {
          "output_type": "execute_result",
          "data": {
            "text/plain": [
              "tensor([[0.5572, 0.4337, 0.9696, 0.6300],\n",
              "        [0.8113, 0.5624, 0.8755, 0.8822],\n",
              "        [0.1682, 0.1544, 0.4747, 0.2021],\n",
              "        [0.4812, 0.3045, 0.2943, 0.5084]])"
            ]
          },
          "metadata": {
            "tags": []
          },
          "execution_count": 150
        }
      ]
    },
    {
      "cell_type": "code",
      "metadata": {
        "id": "MdR3qiam1TfD",
        "outputId": "0410934a-d5b3-41dd-e8e4-1cacfad9d9e2",
        "colab": {
          "base_uri": "https://localhost:8080/",
          "height": 50
        }
      },
      "source": [
        "%timeit matmul_brcst(x,y)"
      ],
      "execution_count": 152,
      "outputs": [
        {
          "output_type": "stream",
          "text": [
            "The slowest run took 5.11 times longer than the fastest. This could mean that an intermediate result is being cached.\n",
            "1000 loops, best of 3: 214 µs per loop\n"
          ],
          "name": "stdout"
        }
      ]
    },
    {
      "cell_type": "code",
      "metadata": {
        "id": "HNfrHFwk1gbg"
      },
      "source": [
        "#3 times faster!"
      ],
      "execution_count": 153,
      "outputs": []
    },
    {
      "cell_type": "markdown",
      "metadata": {
        "id": "Aoj76QSu1ttX"
      },
      "source": [
        "Matmul ver3 (super-broadcasting)"
      ]
    },
    {
      "cell_type": "code",
      "metadata": {
        "id": "HoiVRRZQ1qVd"
      },
      "source": [
        "def matmul_sbrcst(mat1, mat2):\n",
        "    check_shapes(mat1,mat2)\n",
        "    mat1_shape, mat2_shape = mat1.shape, mat2.shape\n",
        "    new_mat = torch.zeros([mat1_shape[0],mat2_shape[1]])\n",
        "    #multiplication\n",
        "    for i in range(new_mat.shape[1]):\n",
        "        new_mat[:,i] = mat1[:]@mat2[:,i]\n",
        "    return new_mat"
      ],
      "execution_count": 168,
      "outputs": []
    },
    {
      "cell_type": "code",
      "metadata": {
        "id": "7Wr9Dw3D3Lm1",
        "outputId": "71bdd72b-7f3e-4de8-f224-2373229a6c9c",
        "colab": {
          "base_uri": "https://localhost:8080/",
          "height": 84
        }
      },
      "source": [
        "matmul_sbrcst(x,y)"
      ],
      "execution_count": 162,
      "outputs": [
        {
          "output_type": "execute_result",
          "data": {
            "text/plain": [
              "tensor([[0.5572, 0.4337, 0.9696, 0.6300],\n",
              "        [0.8113, 0.5624, 0.8755, 0.8822],\n",
              "        [0.1682, 0.1544, 0.4747, 0.2021],\n",
              "        [0.4812, 0.3045, 0.2943, 0.5084]])"
            ]
          },
          "metadata": {
            "tags": []
          },
          "execution_count": 162
        }
      ]
    },
    {
      "cell_type": "code",
      "metadata": {
        "id": "2tQkONN43RYA",
        "outputId": "01b8701b-4cd2-4820-ed38-84c884b922c9",
        "colab": {
          "base_uri": "https://localhost:8080/",
          "height": 50
        }
      },
      "source": [
        "%timeit matmul_sbrcst(x,y)"
      ],
      "execution_count": 163,
      "outputs": [
        {
          "output_type": "stream",
          "text": [
            "The slowest run took 16.02 times longer than the fastest. This could mean that an intermediate result is being cached.\n",
            "10000 loops, best of 3: 63.1 µs per loop\n"
          ],
          "name": "stdout"
        }
      ]
    },
    {
      "cell_type": "code",
      "metadata": {
        "id": "b-fYTjK63vCc"
      },
      "source": [
        "#damn, it is faster! but still pytorch ver is better, what can I do with that?"
      ],
      "execution_count": 165,
      "outputs": []
    },
    {
      "cell_type": "code",
      "metadata": {
        "id": "dyXfNEF732TL"
      },
      "source": [
        ""
      ],
      "execution_count": null,
      "outputs": []
    }
  ]
}